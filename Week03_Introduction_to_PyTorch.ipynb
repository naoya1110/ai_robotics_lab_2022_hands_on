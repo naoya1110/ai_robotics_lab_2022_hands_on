{
  "nbformat": 4,
  "nbformat_minor": 0,
  "metadata": {
    "colab": {
      "name": "Week03_Introduction_to_PyTorch.ipynb",
      "provenance": [],
      "collapsed_sections": [],
      "toc_visible": true,
      "authorship_tag": "ABX9TyNQnEG4gOwA6DShdvwxdDpY",
      "include_colab_link": true
    },
    "kernelspec": {
      "name": "python3",
      "display_name": "Python 3"
    },
    "language_info": {
      "name": "python"
    }
  },
  "cells": [
    {
      "cell_type": "markdown",
      "metadata": {
        "id": "view-in-github",
        "colab_type": "text"
      },
      "source": [
        "<a href=\"https://colab.research.google.com/github/naoya1110/ai_robotics_lab_2022_hands_on/blob/main/Week03_Introduction_to_PyTorch.ipynb\" target=\"_parent\"><img src=\"https://colab.research.google.com/assets/colab-badge.svg\" alt=\"Open In Colab\"/></a>"
      ]
    },
    {
      "cell_type": "markdown",
      "metadata": {
        "id": "lp3-fTEk3CXr"
      },
      "source": [
        "# NCKU-NITKC AI Robotics Lab - Week 03\n",
        "\n",
        "In this AI Robotics Lab course, we will be using PyTorch for implementing deep neural networks. In this notebook we will learn basic functions of PyTorch. So let's get used to it.\n",
        "\n",
        "\n",
        "*If you are not familier with basic Python programming, you may want to go through some other tutorials such as\n",
        "\n",
        "https://colab.research.google.com/github/cs231n/cs231n.github.io/blob/master/python-colab.ipynb"
      ]
    },
    {
      "cell_type": "markdown",
      "metadata": {
        "id": "TXeweKspo2c2"
      },
      "source": [
        "## Torch.Tensor\n",
        "First we need to import PyTorch."
      ]
    },
    {
      "cell_type": "code",
      "metadata": {
        "id": "2iNt9kVFhkVq"
      },
      "source": [
        "import torch"
      ],
      "execution_count": 1,
      "outputs": []
    },
    {
      "cell_type": "markdown",
      "metadata": {
        "id": "amh_RRDe5YCu"
      },
      "source": [
        "PyTorch handles multi-dimensional array data with `torch.tensor` data type. To make a `torch.tensor` data, we can pass a Python `list` data to `torch.tensor()`."
      ]
    },
    {
      "cell_type": "code",
      "metadata": {
        "id": "tCi4UpU6iaEQ",
        "colab": {
          "base_uri": "https://localhost:8080/"
        },
        "outputId": "f730fac9-16c5-46e2-f5a3-eba84a225df4"
      },
      "source": [
        "a = [1, 2, 3]      # create list named \"a\"\n",
        "\n",
        "print(a)           # show \"a\"\n",
        "print(type(a))     # show data type of \"a\""
      ],
      "execution_count": 2,
      "outputs": [
        {
          "output_type": "stream",
          "name": "stdout",
          "text": [
            "[1, 2, 3]\n",
            "<class 'list'>\n"
          ]
        }
      ]
    },
    {
      "cell_type": "code",
      "metadata": {
        "id": "dwRCeeZL6ZPt",
        "colab": {
          "base_uri": "https://localhost:8080/"
        },
        "outputId": "3d97a712-55ed-429c-e2f2-80e3dd9fbfec"
      },
      "source": [
        "a = torch.tensor(a)     # convert list \"a\" to torch.tensor \"a\"\n",
        "\n",
        "print(a)\n",
        "print(type(a))"
      ],
      "execution_count": 3,
      "outputs": [
        {
          "output_type": "stream",
          "name": "stdout",
          "text": [
            "tensor([1, 2, 3])\n",
            "<class 'torch.Tensor'>\n"
          ]
        }
      ]
    },
    {
      "cell_type": "markdown",
      "metadata": {
        "id": "FclCLLUg6iZq"
      },
      "source": [
        "Also, a `torch.tensor` data can be made from a `numpy.ndarray` data."
      ]
    },
    {
      "cell_type": "code",
      "metadata": {
        "id": "OY_t_qCkgLFR",
        "colab": {
          "base_uri": "https://localhost:8080/"
        },
        "outputId": "506ddc8c-9203-4fc3-a0ba-4c4036715c49"
      },
      "source": [
        "import numpy as np               # import Numpy package, \"np\" is abbreviation for numpy\n",
        "\n",
        "b = np.array([0.4, 0.5, 0.6])    # create a np.ndarray named \"b\"\n",
        "b = torch.tensor(b)              # convert np.ndarry \"b\" to torch.tensor \"b\"\n",
        "\n",
        "print(b)\n",
        "print(type(b))"
      ],
      "execution_count": 4,
      "outputs": [
        {
          "output_type": "stream",
          "name": "stdout",
          "text": [
            "tensor([0.4000, 0.5000, 0.6000], dtype=torch.float64)\n",
            "<class 'torch.Tensor'>\n"
          ]
        }
      ]
    },
    {
      "cell_type": "markdown",
      "metadata": {
        "id": "IScSA6AF88v6"
      },
      "source": [
        "It is also possible to convert a `torch.tensor` back to a `numpy.ndarray`."
      ]
    },
    {
      "cell_type": "code",
      "metadata": {
        "id": "OOrCjtoa88MJ",
        "colab": {
          "base_uri": "https://localhost:8080/"
        },
        "outputId": "7e9c0499-cf87-4679-aba4-2d480c589c1a"
      },
      "source": [
        "c = b.numpy()        # convert torch.tensor data \"b\" to np.ndarray data \"c\"\n",
        "\n",
        "print(c)\n",
        "print(type(c))"
      ],
      "execution_count": 5,
      "outputs": [
        {
          "output_type": "stream",
          "name": "stdout",
          "text": [
            "[0.4 0.5 0.6]\n",
            "<class 'numpy.ndarray'>\n"
          ]
        }
      ]
    },
    {
      "cell_type": "markdown",
      "metadata": {
        "id": "GanF3Gg0CJ_J"
      },
      "source": [
        "To know the shape of torch.tensor data, there are 2 different ways. One is `.shape` and the other is `.size()`. They return same result."
      ]
    },
    {
      "cell_type": "code",
      "metadata": {
        "id": "WwgqCsOkCSbK",
        "colab": {
          "base_uri": "https://localhost:8080/"
        },
        "outputId": "59a9a074-598e-4298-9d5f-5bcbab97683f"
      },
      "source": [
        "a = torch.tensor([1, 2, 3])\n",
        "print(a.shape)"
      ],
      "execution_count": 7,
      "outputs": [
        {
          "output_type": "stream",
          "name": "stdout",
          "text": [
            "torch.Size([3])\n"
          ]
        }
      ]
    },
    {
      "cell_type": "code",
      "source": [
        "print(a.size())"
      ],
      "metadata": {
        "colab": {
          "base_uri": "https://localhost:8080/"
        },
        "id": "WyAy45inHUSN",
        "outputId": "1dd93658-c79d-4798-98e5-aa96e12045ee"
      },
      "execution_count": 8,
      "outputs": [
        {
          "output_type": "stream",
          "name": "stdout",
          "text": [
            "torch.Size([3])\n"
          ]
        }
      ]
    },
    {
      "cell_type": "markdown",
      "metadata": {
        "id": "2QWTZQTy76Av"
      },
      "source": [
        "## Simple Calculations\n",
        "\n",
        "Let's do some simple arithmetic operations with a `torch.tensor` and a number."
      ]
    },
    {
      "cell_type": "code",
      "metadata": {
        "id": "BQMs27Ky6huP",
        "colab": {
          "base_uri": "https://localhost:8080/"
        },
        "outputId": "7e69d4fe-83f6-45da-ee7e-48476deb59e4"
      },
      "source": [
        "a = torch.tensor([1, 2, 3])\n",
        "print(\"a =\", a)\n",
        "\n",
        "print(\"a+1=\", a+1)    # addition\n",
        "print(\"a-2=\", a-2)    # subtraction\n",
        "print(\"a*3=\", a*3)    # multiplication\n",
        "print(\"a/4=\", a/4)    # division"
      ],
      "execution_count": 9,
      "outputs": [
        {
          "output_type": "stream",
          "name": "stdout",
          "text": [
            "a = tensor([1, 2, 3])\n",
            "a+1= tensor([2, 3, 4])\n",
            "a-2= tensor([-1,  0,  1])\n",
            "a*3= tensor([3, 6, 9])\n",
            "a/4= tensor([0.2500, 0.5000, 0.7500])\n"
          ]
        }
      ]
    },
    {
      "cell_type": "markdown",
      "metadata": {
        "id": "KR3Hze5ux40x"
      },
      "source": [
        "Operations with two `torch.tensor`s."
      ]
    },
    {
      "cell_type": "code",
      "metadata": {
        "id": "t3sRUzEN8M5b",
        "colab": {
          "base_uri": "https://localhost:8080/"
        },
        "outputId": "88f81d9f-0f7a-4fb5-807d-edefcdb442b0"
      },
      "source": [
        "a = torch.tensor([1, 2, 3])\n",
        "b = torch.tensor([0.4, 0.5, 0.6])\n",
        "\n",
        "print(\"a =\", a)\n",
        "print(\"b =\", b)\n",
        "\n",
        "print(\"a+b=\", a+b)\n",
        "print(\"a-b=\", a-b)\n",
        "print(\"a*b=\", a*b)\n",
        "print(\"a/b=\", a/b)"
      ],
      "execution_count": 10,
      "outputs": [
        {
          "output_type": "stream",
          "name": "stdout",
          "text": [
            "a = tensor([1, 2, 3])\n",
            "b = tensor([0.4000, 0.5000, 0.6000])\n",
            "a+b= tensor([1.4000, 2.5000, 3.6000])\n",
            "a-b= tensor([0.6000, 1.5000, 2.4000])\n",
            "a*b= tensor([0.4000, 1.0000, 1.8000])\n",
            "a/b= tensor([2.5000, 4.0000, 5.0000])\n"
          ]
        }
      ]
    },
    {
      "cell_type": "markdown",
      "metadata": {
        "id": "SdgTI4FS9nSA"
      },
      "source": [
        "## PyTorch and Numpy\n",
        "\n",
        "Since PyTorch is based on Numpy, they have a lot of similarities. If you are already familier with Numpy, you might feel confortable with PyTorch as well. Let's see some examples."
      ]
    },
    {
      "cell_type": "markdown",
      "metadata": {
        "id": "41so0Zm8_MLZ"
      },
      "source": [
        "**Zeros Array** - all zero array with given shape"
      ]
    },
    {
      "cell_type": "code",
      "metadata": {
        "id": "vyJZEQdDkSYp",
        "colab": {
          "base_uri": "https://localhost:8080/"
        },
        "outputId": "acad39f7-abca-440c-8246-47f04b76ce3e"
      },
      "source": [
        "np.zeros(3)    # 1D np.ndarray of 3 zeros"
      ],
      "execution_count": 11,
      "outputs": [
        {
          "output_type": "execute_result",
          "data": {
            "text/plain": [
              "array([0., 0., 0.])"
            ]
          },
          "metadata": {},
          "execution_count": 11
        }
      ]
    },
    {
      "cell_type": "code",
      "metadata": {
        "id": "ewQFFBZvhsLO",
        "colab": {
          "base_uri": "https://localhost:8080/"
        },
        "outputId": "f405b39c-eedd-472c-a2d7-23e693f5d0b9"
      },
      "source": [
        "torch.zeros(3) # 1D torch.tensor of 3 zeros"
      ],
      "execution_count": 12,
      "outputs": [
        {
          "output_type": "execute_result",
          "data": {
            "text/plain": [
              "tensor([0., 0., 0.])"
            ]
          },
          "metadata": {},
          "execution_count": 12
        }
      ]
    },
    {
      "cell_type": "code",
      "metadata": {
        "id": "c2TCbmXzHMwI",
        "colab": {
          "base_uri": "https://localhost:8080/"
        },
        "outputId": "1602b3f6-e24d-490c-b692-fe5863442f91"
      },
      "source": [
        "torch.zeros((2, 3)) # 2D torch.tensor of 2x3 zeros"
      ],
      "execution_count": 13,
      "outputs": [
        {
          "output_type": "execute_result",
          "data": {
            "text/plain": [
              "tensor([[0., 0., 0.],\n",
              "        [0., 0., 0.]])"
            ]
          },
          "metadata": {},
          "execution_count": 13
        }
      ]
    },
    {
      "cell_type": "markdown",
      "metadata": {
        "id": "XViCDzHK_Phe"
      },
      "source": [
        "**Ones Array** - all one array with given shape"
      ]
    },
    {
      "cell_type": "code",
      "metadata": {
        "id": "g45dgf4Vk1-W",
        "colab": {
          "base_uri": "https://localhost:8080/"
        },
        "outputId": "660a355e-716b-4b5a-9470-c0a8990686e7"
      },
      "source": [
        "np.ones(5)"
      ],
      "execution_count": 14,
      "outputs": [
        {
          "output_type": "execute_result",
          "data": {
            "text/plain": [
              "array([1., 1., 1., 1., 1.])"
            ]
          },
          "metadata": {},
          "execution_count": 14
        }
      ]
    },
    {
      "cell_type": "code",
      "metadata": {
        "id": "wL64K2wb-J6s",
        "colab": {
          "base_uri": "https://localhost:8080/"
        },
        "outputId": "bb055798-8e27-4ab7-a55e-ac655b8d6063"
      },
      "source": [
        "torch.ones(5)"
      ],
      "execution_count": 15,
      "outputs": [
        {
          "output_type": "execute_result",
          "data": {
            "text/plain": [
              "tensor([1., 1., 1., 1., 1.])"
            ]
          },
          "metadata": {},
          "execution_count": 15
        }
      ]
    },
    {
      "cell_type": "markdown",
      "metadata": {
        "id": "um9Kdk8V_qIy"
      },
      "source": [
        "**Random Number Array** - an array of rundom numbers between 0.0 and 1.0 with given shape"
      ]
    },
    {
      "cell_type": "code",
      "metadata": {
        "id": "XxuC3DwclKoE",
        "colab": {
          "base_uri": "https://localhost:8080/"
        },
        "outputId": "1a572421-7473-4067-f73b-048cb33a174a"
      },
      "source": [
        "np.random.rand(3)"
      ],
      "execution_count": 16,
      "outputs": [
        {
          "output_type": "execute_result",
          "data": {
            "text/plain": [
              "array([0.21820505, 0.78390608, 0.00824854])"
            ]
          },
          "metadata": {},
          "execution_count": 16
        }
      ]
    },
    {
      "cell_type": "code",
      "metadata": {
        "id": "Epe4Tk_6-PFn",
        "colab": {
          "base_uri": "https://localhost:8080/"
        },
        "outputId": "90e063af-64c5-4eee-ce55-2b5508a23ada"
      },
      "source": [
        "torch.rand(3)"
      ],
      "execution_count": 17,
      "outputs": [
        {
          "output_type": "execute_result",
          "data": {
            "text/plain": [
              "tensor([0.3387, 0.0061, 0.5150])"
            ]
          },
          "metadata": {},
          "execution_count": 17
        }
      ]
    },
    {
      "cell_type": "markdown",
      "metadata": {
        "id": "1xErEqhS_UK_"
      },
      "source": [
        "**Arange Array** - 1D array with evenly spaced values"
      ]
    },
    {
      "cell_type": "code",
      "metadata": {
        "id": "D8uf-3lgk6FK",
        "colab": {
          "base_uri": "https://localhost:8080/"
        },
        "outputId": "7ff91f90-7b89-4184-f816-ab7a5d9590d4"
      },
      "source": [
        "np.arange(0, 5, 1)    # np.arange(start, stop, step) --- stop will not be included"
      ],
      "execution_count": 18,
      "outputs": [
        {
          "output_type": "execute_result",
          "data": {
            "text/plain": [
              "array([0, 1, 2, 3, 4])"
            ]
          },
          "metadata": {},
          "execution_count": 18
        }
      ]
    },
    {
      "cell_type": "code",
      "metadata": {
        "id": "mJMTsPNn-o5_",
        "colab": {
          "base_uri": "https://localhost:8080/"
        },
        "outputId": "0c916222-b1f6-4fed-8f90-06ddda3f3ef7"
      },
      "source": [
        "torch.arange(0, 5, 1)"
      ],
      "execution_count": 19,
      "outputs": [
        {
          "output_type": "execute_result",
          "data": {
            "text/plain": [
              "tensor([0, 1, 2, 3, 4])"
            ]
          },
          "metadata": {},
          "execution_count": 19
        }
      ]
    },
    {
      "cell_type": "code",
      "metadata": {
        "id": "35Gv_cjGHopY",
        "colab": {
          "base_uri": "https://localhost:8080/"
        },
        "outputId": "2ffb1746-f01c-48bb-b01b-02f999421bc6"
      },
      "source": [
        "torch.arange(5)     # start and step parameters can be omitted"
      ],
      "execution_count": 20,
      "outputs": [
        {
          "output_type": "execute_result",
          "data": {
            "text/plain": [
              "tensor([0, 1, 2, 3, 4])"
            ]
          },
          "metadata": {},
          "execution_count": 20
        }
      ]
    },
    {
      "cell_type": "markdown",
      "metadata": {
        "id": "1m-AEvuAABNN"
      },
      "source": [
        "**Slicing/Indexing** - take a part of data from original array by specifying indexes"
      ]
    },
    {
      "cell_type": "code",
      "metadata": {
        "id": "dAR_SciliEd0",
        "colab": {
          "base_uri": "https://localhost:8080/"
        },
        "outputId": "9ec003a5-f142-4e32-a6ba-328acc5c5695"
      },
      "source": [
        "a = np.arange(10) \n",
        "print(a)\n",
        "print(a[2:5])    # take data from index 2 to before index 5"
      ],
      "execution_count": 21,
      "outputs": [
        {
          "output_type": "stream",
          "name": "stdout",
          "text": [
            "[0 1 2 3 4 5 6 7 8 9]\n",
            "[2 3 4]\n"
          ]
        }
      ]
    },
    {
      "cell_type": "code",
      "metadata": {
        "id": "RVPtoMeslvhq",
        "colab": {
          "base_uri": "https://localhost:8080/"
        },
        "outputId": "66aa7f10-7b1c-49f5-86b1-fd8b28947633"
      },
      "source": [
        "a = torch.arange(10)\n",
        "print(a)\n",
        "print(a[2:5])    # take data from index 2 to before index 5"
      ],
      "execution_count": 22,
      "outputs": [
        {
          "output_type": "stream",
          "name": "stdout",
          "text": [
            "tensor([0, 1, 2, 3, 4, 5, 6, 7, 8, 9])\n",
            "tensor([2, 3, 4])\n"
          ]
        }
      ]
    },
    {
      "cell_type": "code",
      "metadata": {
        "id": "-k2H6sqvJNIo",
        "colab": {
          "base_uri": "https://localhost:8080/"
        },
        "outputId": "db5c4eb8-5842-4651-9c20-466ffe118170"
      },
      "source": [
        "a = torch.arange(100).view(10,10)    # 10x10 torch.tensor\n",
        "print(a)\n",
        "print(a[1:3, 4:8])   # take 2D data from 10x10 torch.tensor"
      ],
      "execution_count": 23,
      "outputs": [
        {
          "output_type": "stream",
          "name": "stdout",
          "text": [
            "tensor([[ 0,  1,  2,  3,  4,  5,  6,  7,  8,  9],\n",
            "        [10, 11, 12, 13, 14, 15, 16, 17, 18, 19],\n",
            "        [20, 21, 22, 23, 24, 25, 26, 27, 28, 29],\n",
            "        [30, 31, 32, 33, 34, 35, 36, 37, 38, 39],\n",
            "        [40, 41, 42, 43, 44, 45, 46, 47, 48, 49],\n",
            "        [50, 51, 52, 53, 54, 55, 56, 57, 58, 59],\n",
            "        [60, 61, 62, 63, 64, 65, 66, 67, 68, 69],\n",
            "        [70, 71, 72, 73, 74, 75, 76, 77, 78, 79],\n",
            "        [80, 81, 82, 83, 84, 85, 86, 87, 88, 89],\n",
            "        [90, 91, 92, 93, 94, 95, 96, 97, 98, 99]])\n",
            "tensor([[14, 15, 16, 17],\n",
            "        [24, 25, 26, 27]])\n"
          ]
        }
      ]
    },
    {
      "cell_type": "markdown",
      "metadata": {
        "id": "tPblm8JmEE1B"
      },
      "source": [
        "**Reshaping** \n",
        "\n",
        "In order to reshape the `numpy.ndarray`, we can use `.reshape()`."
      ]
    },
    {
      "cell_type": "code",
      "metadata": {
        "id": "-UzSo7ajiJGN",
        "colab": {
          "base_uri": "https://localhost:8080/"
        },
        "outputId": "6052c635-653c-420e-9696-17d5d92a96c3"
      },
      "source": [
        "a = np.arange(10) # 1D data\n",
        "a.reshape(2,5)    # reshape data into 2x5 np.ndarray"
      ],
      "execution_count": 24,
      "outputs": [
        {
          "output_type": "execute_result",
          "data": {
            "text/plain": [
              "array([[0, 1, 2, 3, 4],\n",
              "       [5, 6, 7, 8, 9]])"
            ]
          },
          "metadata": {},
          "execution_count": 24
        }
      ]
    },
    {
      "cell_type": "markdown",
      "metadata": {
        "id": "q1TGVrNszb7d"
      },
      "source": [
        "In PyTorch we need to use `.view()` instead of `.reshape()` for reshaping."
      ]
    },
    {
      "cell_type": "code",
      "metadata": {
        "id": "rK5JSboHETjP",
        "colab": {
          "base_uri": "https://localhost:8080/"
        },
        "outputId": "01528248-8d60-4bcc-ff67-294ef94e7a44"
      },
      "source": [
        "a = torch.arange(10)\n",
        "a.view(2,5)   # reshape data into 2x5 torch.tensor"
      ],
      "execution_count": 25,
      "outputs": [
        {
          "output_type": "execute_result",
          "data": {
            "text/plain": [
              "tensor([[0, 1, 2, 3, 4],\n",
              "        [5, 6, 7, 8, 9]])"
            ]
          },
          "metadata": {},
          "execution_count": 25
        }
      ]
    },
    {
      "cell_type": "markdown",
      "metadata": {
        "id": "BrqFpnM_DRDa"
      },
      "source": [
        "**Argmax** - returns the index of element with the maximum value in given data"
      ]
    },
    {
      "cell_type": "code",
      "metadata": {
        "id": "6CDgTCGzleaA",
        "colab": {
          "base_uri": "https://localhost:8080/"
        },
        "outputId": "803afc35-159a-4c2c-d204-e7932a9ab0be"
      },
      "source": [
        "a = np.array([1, 2, 5, 3, 4])\n",
        "\n",
        "print(\"a=\", a)\n",
        "print(\"argmax(a) =\", np.argmax(a))    # Remember, the index number starts from 0 in Python"
      ],
      "execution_count": 27,
      "outputs": [
        {
          "output_type": "stream",
          "name": "stdout",
          "text": [
            "a= [1 2 5 3 4]\n",
            "argmax(a) = 2\n"
          ]
        }
      ]
    },
    {
      "cell_type": "code",
      "metadata": {
        "id": "dTSKNliMDSMA",
        "colab": {
          "base_uri": "https://localhost:8080/"
        },
        "outputId": "ad7a6e3c-f6b5-4b2e-d4f4-37f941c1af50"
      },
      "source": [
        "a = torch.tensor([1, 2, 5, 3, 4])\n",
        "\n",
        "print(\"a=\", a)\n",
        "print(\"argmax(a) =\", torch.argmax(a))"
      ],
      "execution_count": 28,
      "outputs": [
        {
          "output_type": "stream",
          "name": "stdout",
          "text": [
            "a= tensor([1, 2, 5, 3, 4])\n",
            "argmax(a) = tensor(2)\n"
          ]
        }
      ]
    },
    {
      "cell_type": "markdown",
      "metadata": {
        "id": "TACcs9ikbTav"
      },
      "source": [
        "**Practice**\n",
        "\n",
        "Draw a graph of $y=\\sin(x)$ by using PyTorch and Matplotlib, but not Numpy."
      ]
    },
    {
      "cell_type": "code",
      "metadata": {
        "id": "DtmtbEPGevub"
      },
      "source": [
        "# WRITE YOUR CODE HERE\n"
      ],
      "execution_count": null,
      "outputs": []
    },
    {
      "cell_type": "markdown",
      "metadata": {
        "id": "cjMYEqSyEmVe"
      },
      "source": [
        "## AutoGrad\n",
        "One of the most important features of PyTorch is automatic differentiation engine `torch.autograd`. PyTorch performs calculations using computation graphs, and this allows us to access the gradients of outputs with respect to the inputs. This is the key for training neural networks.\n",
        "\n",
        "Let's see a simple example of $y=2x+5$, where $x$ is input and $y$ is output.\n",
        "\n",
        "In order to enable` torch.autograd` function, we need to set parameters of input `x` as `dtype=torch.float32`,  `requires_grad=True`."
      ]
    },
    {
      "cell_type": "code",
      "metadata": {
        "id": "3p0UxGo6jjYf",
        "colab": {
          "base_uri": "https://localhost:8080/"
        },
        "outputId": "8dd65caa-236e-4519-86ad-af4ff958c87a"
      },
      "source": [
        "x = torch.tensor(3.0, dtype=torch.float32, requires_grad=True)\n",
        "y = 2*x + 5\n",
        "print(\"y=\", y)"
      ],
      "execution_count": 29,
      "outputs": [
        {
          "output_type": "stream",
          "name": "stdout",
          "text": [
            "y= tensor(11., grad_fn=<AddBackward0>)\n"
          ]
        }
      ]
    },
    {
      "cell_type": "markdown",
      "metadata": {
        "id": "VyW7S_k5Zk0A"
      },
      "source": [
        "By the way `y` is a torch.tensor data. You can take the value of `y` by `y.item()`."
      ]
    },
    {
      "cell_type": "code",
      "metadata": {
        "id": "uTpwq-vBZibA",
        "colab": {
          "base_uri": "https://localhost:8080/"
        },
        "outputId": "c0598a0c-813e-49df-ab4e-d0c79c7df2c6"
      },
      "source": [
        "y.item()"
      ],
      "execution_count": 30,
      "outputs": [
        {
          "output_type": "execute_result",
          "data": {
            "text/plain": [
              "11.0"
            ]
          },
          "metadata": {},
          "execution_count": 30
        }
      ]
    },
    {
      "cell_type": "markdown",
      "metadata": {
        "id": "4GPBCOJUNeX4"
      },
      "source": [
        "The gradients of `y` is calculated by `y.backward()`"
      ]
    },
    {
      "cell_type": "code",
      "metadata": {
        "id": "6aV0uFOBMxv1"
      },
      "source": [
        "y.backward()"
      ],
      "execution_count": 31,
      "outputs": []
    },
    {
      "cell_type": "markdown",
      "metadata": {
        "id": "dorxjIugOLJd"
      },
      "source": [
        "Now the gradient of `y` respect to `x`, namely $dy/dx$, can be accessed by `x.grad`."
      ]
    },
    {
      "cell_type": "code",
      "metadata": {
        "id": "OALTZ7JJNX4l",
        "colab": {
          "base_uri": "https://localhost:8080/"
        },
        "outputId": "b39043a8-dce3-4b83-903c-5be0c05d762a"
      },
      "source": [
        "print(\"dy/dx =\", x.grad)"
      ],
      "execution_count": 32,
      "outputs": [
        {
          "output_type": "stream",
          "name": "stdout",
          "text": [
            "dy/dx = tensor(2.)\n"
          ]
        }
      ]
    },
    {
      "cell_type": "markdown",
      "metadata": {
        "id": "ah3ijRIWkcRW"
      },
      "source": [
        "**Practice**\n",
        "\n",
        "\n",
        "1.   Define a new `torch.tensor` $x=5.0$\n",
        "2.   Do calculation of $y=x^2 + 3x + 1$\n",
        "3.   Determine the gradient of $dy/dx$ and check if that is correct."
      ]
    },
    {
      "cell_type": "code",
      "metadata": {
        "id": "frllAWONlULP"
      },
      "source": [
        "# WRITE YOUR CODE HERE\n"
      ],
      "execution_count": null,
      "outputs": []
    },
    {
      "cell_type": "markdown",
      "metadata": {
        "id": "dBAONFRxnU05"
      },
      "source": [
        "**Practice**\n",
        "\n",
        "\n",
        "1.   Define a new `torch.tensor` $x=3.0$ and $y=2.0$\n",
        "2.   Do calculation of $z=x^2 + 2y^3$\n",
        "3.   Determine the partial gradients of $\\partial z/\\partial x$, $\\partial z/\\partial y$"
      ]
    },
    {
      "cell_type": "code",
      "metadata": {
        "id": "12oprH7wOo7Q"
      },
      "source": [
        "# WRITE YOUR CODE HERE\n"
      ],
      "execution_count": null,
      "outputs": []
    },
    {
      "cell_type": "markdown",
      "metadata": {
        "id": "BioIAR-F3oDN"
      },
      "source": [
        "**Column**\n",
        "\n",
        "In deep learning the gradient values are used for optimizing parameters of neural network models by a method so-called stochastic gradient descent (SGD) method. As we have seen above, PyTorch calculates the gradients of torch.tensors automatically. This is why PyTorch is used for deep learning programming.\n",
        "\n",
        "If you are interested in how SGD works for optimizing parameters, here is an example.\n",
        "\n",
        "https://colab.research.google.com/drive/1L4wrhEZojLRWqF8Dnui5qoyxwrcK29pf?usp=sharing\n"
      ]
    }
  ]
}