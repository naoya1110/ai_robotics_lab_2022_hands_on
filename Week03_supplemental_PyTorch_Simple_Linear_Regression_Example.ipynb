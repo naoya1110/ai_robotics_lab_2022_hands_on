{
  "nbformat": 4,
  "nbformat_minor": 0,
  "metadata": {
    "colab": {
      "provenance": [],
      "collapsed_sections": [],
      "authorship_tag": "ABX9TyOxKKjCc4jsHYqx8an2b8sG",
      "include_colab_link": true
    },
    "kernelspec": {
      "name": "python3",
      "display_name": "Python 3"
    },
    "language_info": {
      "name": "python"
    }
  },
  "cells": [
    {
      "cell_type": "markdown",
      "metadata": {
        "id": "view-in-github",
        "colab_type": "text"
      },
      "source": [
        "<a href=\"https://colab.research.google.com/github/naoya1110/ai_robotics_lab_2022_hands_on/blob/main/Week03_supplemental_PyTorch_Simple_Linear_Regression_Example.ipynb\" target=\"_parent\"><img src=\"https://colab.research.google.com/assets/colab-badge.svg\" alt=\"Open In Colab\"/></a>"
      ]
    },
    {
      "cell_type": "markdown",
      "metadata": {
        "id": "f3N0fVQqIH-w"
      },
      "source": [
        "This is a supplemental material for Week03, explaining how the model parameters are optimized with stochastic gradient decent (SGD) method.\n",
        "\n",
        "In this example, we are going to implement a simple linear regression model with PyTorch.\n",
        "\n",
        "First of all, let's import packages of PyTorch, Numpy and Matplotlib."
      ]
    },
    {
      "cell_type": "code",
      "metadata": {
        "id": "PVx3kr0D4Ppr"
      },
      "source": [
        "import torch\n",
        "import numpy as np\n",
        "import matplotlib.pyplot as plt"
      ],
      "execution_count": 1,
      "outputs": []
    },
    {
      "cell_type": "markdown",
      "metadata": {
        "id": "iFGAxPumJKhm"
      },
      "source": [
        "Here we create a dataset of $x$ (inputs) and $y$ (outputs) with a simple linear equation below. Note that output data $y$ contains some random noise. \n",
        "\n",
        "$y = 5x + 3 + \\mathrm{noise}$"
      ]
    },
    {
      "cell_type": "code",
      "metadata": {
        "colab": {
          "base_uri": "https://localhost:8080/",
          "height": 279
        },
        "id": "d12jiZah4lAV",
        "outputId": "cc27789b-c387-4d5e-89b1-8190b6692666"
      },
      "source": [
        "x = 10*np.random.rand(100)-5\n",
        "noise = 3*np.random.randn(x.shape[0])\n",
        "y = 5*x + 3 + noise\n",
        "plt.plot(x, y, marker=\"o\", lw= 0, label=\"data\")\n",
        "plt.xlabel(\"x\")\n",
        "plt.ylabel(\"y\")\n",
        "plt.legend()\n",
        "plt.grid()"
      ],
      "execution_count": 2,
      "outputs": [
        {
          "output_type": "display_data",
          "data": {
            "text/plain": [
              "<Figure size 432x288 with 1 Axes>"
            ],
            "image/png": "[encoded data removed]"
          },
          "metadata": {
            "needs_background": "light"
          }
        }
      ]
    },
    {
      "cell_type": "markdown",
      "metadata": {
        "id": "V1d9TcZJKOAH"
      },
      "source": [
        "Our goal is to find a linear function model (equation) that can fit the x-y dataset well.\n",
        "\n",
        "Instead of using PyTorch, we can simply use `np.polyfit()` to fit the dataset. Then we can obtain the fitting parameters of $w$ and $b$ of a linear function of $y = wx + b$, where $w$ and $b$ are called weight and bias, respectively."
      ]
    },
    {
      "cell_type": "code",
      "metadata": {
        "colab": {
          "base_uri": "https://localhost:8080/"
        },
        "id": "REAk1xWzG4cs",
        "outputId": "6f871968-3058-4025-9875-f7c1c0e06801"
      },
      "source": [
        "w, b = np.polyfit(x, y, 1)\n",
        "print(f\"w={w:.3f}, b={b:.3f}\")"
      ],
      "execution_count": 3,
      "outputs": [
        {
          "output_type": "stream",
          "name": "stdout",
          "text": [
            "w=4.951, b=2.994\n"
          ]
        }
      ]
    },
    {
      "cell_type": "markdown",
      "metadata": {
        "id": "beBJ2jmvOnsi"
      },
      "source": [
        "Because the x-y dataset contains some noise, obtained $w$ and $b$ are not exactly same as we used for creating the dataset, but they are close enough. Anyway we can make a fitting line with the obtained parameters of $w$ and $b$."
      ]
    },
    {
      "cell_type": "code",
      "metadata": {
        "colab": {
          "base_uri": "https://localhost:8080/",
          "height": 279
        },
        "id": "7KIJCGZ_5KD8",
        "outputId": "a0f413ea-669c-4450-8683-4c9e88e6301c"
      },
      "source": [
        "y_fit = w*x + b\n",
        "\n",
        "plt.plot(x, y, marker=\"o\", lw=0, label=\"dataset\")\n",
        "plt.plot(x, y_fit, lw=2, label=\"fit\")\n",
        "plt.xlabel(\"x\")\n",
        "plt.ylabel(\"y\")\n",
        "plt.legend()\n",
        "plt.grid()"
      ],
      "execution_count": 4,
      "outputs": [
        {
          "output_type": "display_data",
          "data": {
            "text/plain": [
              "<Figure size 432x288 with 1 Axes>"
            ],
            "image/png": "[encoded data removed]"
          },
          "metadata": {
            "needs_background": "light"
          }
        }
      ]
    },
    {
      "cell_type": "markdown",
      "metadata": {
        "id": "CAT9dny8FhRW"
      },
      "source": [
        "So `np.polyfit()` works very well. But in this example we will do the same thing with PyTorch.\n",
        "\n",
        "Now we convert the dataset of $x$ and $y$ into PyTorch Tensor."
      ]
    },
    {
      "cell_type": "code",
      "metadata": {
        "id": "3mbf0APf5yYF",
        "colab": {
          "base_uri": "https://localhost:8080/"
        },
        "outputId": "bb7a1c0f-bebb-476b-fd21-1be8bd670bce"
      },
      "source": [
        "x = torch.tensor(x)\n",
        "y = torch.tensor(y)\n",
        "\n",
        "print(type(x))\n",
        "print(type(y))"
      ],
      "execution_count": 5,
      "outputs": [
        {
          "output_type": "stream",
          "name": "stdout",
          "text": [
            "<class 'torch.Tensor'>\n",
            "<class 'torch.Tensor'>\n"
          ]
        }
      ]
    },
    {
      "cell_type": "markdown",
      "metadata": {
        "id": "GWY-KZbAJopr"
      },
      "source": [
        "Then we define a function named `model()` that predicts an output value of $y$ from an input value of $x$ with the parameters of $w$ and $b$."
      ]
    },
    {
      "cell_type": "code",
      "metadata": {
        "id": "T-FhluBo7Ea1"
      },
      "source": [
        "def model(x):\n",
        "    return w*x + b"
      ],
      "execution_count": 6,
      "outputs": []
    },
    {
      "cell_type": "markdown",
      "metadata": {
        "id": "vemQxk48K_mz"
      },
      "source": [
        "Also we define a function named `loss_func()` to calculate the mean squared error between $p$ and $y$, where $p$ is the output values, i.e. prediction, of the `model()`. This kind of function is called loss function which can be used for measuring how wrong the model prediction was."
      ]
    },
    {
      "cell_type": "markdown",
      "metadata": {
        "id": "do3Ll8sEkMb6"
      },
      "source": [
        "$\\displaystyle \\mathrm{loss} = \\mathrm{mse}(p, y) = \\frac{1}{N}\\sum_{i=0}^{N-1}(p_i-y_i)^2$"
      ]
    },
    {
      "cell_type": "code",
      "metadata": {
        "id": "BJX-xDCl7Le1"
      },
      "source": [
        "def loss_func(p, y):\n",
        "    return ((p-y)**2).mean()"
      ],
      "execution_count": 7,
      "outputs": []
    },
    {
      "cell_type": "markdown",
      "metadata": {
        "id": "MZdLCxF8NkXD"
      },
      "source": [
        "At this point we don't know what $w$ and $b$ are. So we initialize those values with arbitary numbers."
      ]
    },
    {
      "cell_type": "code",
      "metadata": {
        "id": "m_fsb7vWO6Dy"
      },
      "source": [
        "w = torch.tensor(1.0, requires_grad=True)   # you can set any number here\n",
        "b = torch.tensor(-5.0, requires_grad=True)  # you can set any number here"
      ],
      "execution_count": 8,
      "outputs": []
    },
    {
      "cell_type": "markdown",
      "metadata": {
        "id": "s_4S2EQYO8wl"
      },
      "source": [
        "Now we can make a prediction using `model()`"
      ]
    },
    {
      "cell_type": "code",
      "metadata": {
        "id": "WLHoWRI7O8Rz",
        "colab": {
          "base_uri": "https://localhost:8080/"
        },
        "outputId": "8c0fc51c-6a9a-4ade-c0fa-f02a92317712"
      },
      "source": [
        "p = model(x)\n",
        "print(p)"
      ],
      "execution_count": 9,
      "outputs": [
        {
          "output_type": "stream",
          "name": "stdout",
          "text": [
            "tensor([-4.3234, -6.5259, -4.5912, -9.5052, -1.8460, -4.5306, -2.0316, -4.9360,\n",
            "        -9.4221, -2.3989, -6.4986, -5.3994, -2.8868, -1.8166, -2.9583, -8.7348,\n",
            "        -9.0313, -1.6211, -8.7176, -0.4336, -4.0162, -0.3704, -2.8496, -7.7400,\n",
            "        -3.2307, -6.4336, -1.4469, -5.2478, -9.8623, -2.2788, -8.0376, -2.2682,\n",
            "        -8.5742, -1.9629, -0.6721, -8.8030, -9.6409, -6.4697, -0.2164, -5.8849,\n",
            "        -4.7557, -4.8007, -6.1943, -0.8135, -7.8001, -1.0869, -4.8175, -3.7482,\n",
            "        -7.3853, -8.4548, -6.9172, -8.2938, -7.6543, -3.4459, -4.0863, -4.5113,\n",
            "        -4.4156, -7.5232, -6.1227, -1.9194, -2.9277, -2.1672, -0.7325, -0.3421,\n",
            "        -0.2531, -9.5070, -4.4921, -2.0425, -6.7934, -9.6167, -3.4507, -6.5655,\n",
            "        -5.6795, -4.8800, -6.1741, -3.8183, -3.6147, -9.3819, -0.4059, -8.3047,\n",
            "        -6.9599, -4.0692, -8.6091, -2.4978, -8.4013, -9.1244, -9.0232, -8.6743,\n",
            "        -2.4538, -8.3599, -0.3722, -2.8132, -9.6188, -2.3851, -0.5653, -3.7871,\n",
            "        -2.1168, -0.1040, -7.4715, -3.9458], dtype=torch.float64,\n",
            "       grad_fn=<AddBackward0>)\n"
          ]
        }
      ]
    },
    {
      "cell_type": "markdown",
      "metadata": {
        "id": "QtXwQ3nIttbt"
      },
      "source": [
        "Let's visualize current prediction. As we set arbitary number for $w$ and $b$, the model prediction does not fit the data well for sure."
      ]
    },
    {
      "cell_type": "code",
      "metadata": {
        "colab": {
          "base_uri": "https://localhost:8080/",
          "height": 297
        },
        "id": "7Gvw_X_MPKhL",
        "outputId": "11d2d179-bd9e-4be7-8155-cab5249a1886"
      },
      "source": [
        "plt.plot(x, y, marker=\"o\", lw=0, label=\"data\")\n",
        "plt.plot(x, p.detach().numpy(), label=\"prediction\")\n",
        "plt.grid()\n",
        "plt.legend()\n",
        "plt.xlabel(\"x\")\n",
        "plt.ylabel(\"y\")"
      ],
      "execution_count": 10,
      "outputs": [
        {
          "output_type": "execute_result",
          "data": {
            "text/plain": [
              "Text(0, 0.5, 'y')"
            ]
          },
          "metadata": {},
          "execution_count": 10
        },
        {
          "output_type": "display_data",
          "data": {
            "text/plain": [
              "<Figure size 432x288 with 1 Axes>"
            ],
            "image/png": "[encoded data removed]"
          },
          "metadata": {
            "needs_background": "light"
          }
        }
      ]
    },
    {
      "cell_type": "markdown",
      "metadata": {
        "id": "PV7CxsLjPsnR"
      },
      "source": [
        "Then we calculate loss (mean squared error) value by using `loss_func()`. Note that the loss value is very large because $w$ and $b$ are arbitaly values and not optimized yet."
      ]
    },
    {
      "cell_type": "code",
      "metadata": {
        "colab": {
          "base_uri": "https://localhost:8080/"
        },
        "id": "EIXfD63wPzVm",
        "outputId": "a9b31cee-6223-436e-865d-0f88cb7cff9f"
      },
      "source": [
        "loss = loss_func(p, y)\n",
        "print(loss)"
      ],
      "execution_count": 11,
      "outputs": [
        {
          "output_type": "stream",
          "name": "stdout",
          "text": [
            "tensor(214.1167, dtype=torch.float64, grad_fn=<MeanBackward0>)\n"
          ]
        }
      ]
    },
    {
      "cell_type": "markdown",
      "metadata": {
        "id": "roLiOg-dQp_q"
      },
      "source": [
        "In order to optimize $w$ amd $b$, we need to know the gradients of loss respect to current $w$ and $b$ respectively. This can be done with `loss.backward()`. The gradients of $ \\frac{\\partial \\mathrm{loss}}{\\partial w}$ and $\\frac{\\partial \\mathrm{loss}}{\\partial b}$ can be accessed by `w.grad` and `b.grad`, respectively."
      ]
    },
    {
      "cell_type": "code",
      "metadata": {
        "colab": {
          "base_uri": "https://localhost:8080/"
        },
        "id": "kNT7UuCnQh2X",
        "outputId": "b7fe2370-cfa5-478b-d25c-9514835391f5"
      },
      "source": [
        "loss.backward()\n",
        "print(w.grad)\n",
        "print(b.grad)"
      ],
      "execution_count": 12,
      "outputs": [
        {
          "output_type": "stream",
          "name": "stdout",
          "text": [
            "tensor(-70.7149)\n",
            "tensor(-16.6617)\n"
          ]
        }
      ]
    },
    {
      "cell_type": "markdown",
      "metadata": {
        "id": "DWPnNfKsTLW_"
      },
      "source": [
        "Then we can update $w$ and $b$ by using equations below where $\\eta$ is learning rate. This is a method called stochastic gradient descent (SGD).\n",
        "\n",
        "$\\displaystyle w := w - \\eta\\frac{\\partial}{\\partial w}\\mathrm{loss}$\n",
        "\n",
        "$\\displaystyle b := b - \\eta\\frac{\\partial}{\\partial b}\\mathrm{loss}$\n",
        "\n",
        "\n",
        "When we update those values we don't want to calculate the gradients. For this purpose `with torch.no_grad()` is stated at the beginning."
      ]
    },
    {
      "cell_type": "code",
      "metadata": {
        "id": "mpoxdQ0WTK9X"
      },
      "source": [
        "lr = 0.01    # define learning rate\n",
        "\n",
        "with torch.no_grad():    # disable gradients calculations\n",
        "    w -= w.grad*lr       # update w\n",
        "    b -= b.grad*lr       # update b"
      ],
      "execution_count": 13,
      "outputs": []
    },
    {
      "cell_type": "markdown",
      "metadata": {
        "id": "aen0JWycU6BN"
      },
      "source": [
        "At this point you can find the values of $w$ and $b$ are a bit closer to the true values ($w$=5.0, $b$=3.0) than the initial values."
      ]
    },
    {
      "cell_type": "code",
      "metadata": {
        "colab": {
          "base_uri": "https://localhost:8080/"
        },
        "id": "3H6yLMDgU4Yr",
        "outputId": "c402376e-c1ea-458b-ea42-f7c73ac02515"
      },
      "source": [
        "print(w)\n",
        "print(b)"
      ],
      "execution_count": 14,
      "outputs": [
        {
          "output_type": "stream",
          "name": "stdout",
          "text": [
            "tensor(1.7071, requires_grad=True)\n",
            "tensor(-4.8334, requires_grad=True)\n"
          ]
        }
      ]
    },
    {
      "cell_type": "markdown",
      "metadata": {
        "id": "2G7G6xIpYnlk"
      },
      "source": [
        "In order to optimize $w$ and $b$ further, we repeat above process many times."
      ]
    },
    {
      "cell_type": "code",
      "metadata": {
        "colab": {
          "base_uri": "https://localhost:8080/"
        },
        "id": "oVJCrKHR7UPk",
        "outputId": "12664147-83e8-4ea3-b894-847712b40fd8"
      },
      "source": [
        "w = torch.tensor(1.0, requires_grad=True)   # you can set any number here\n",
        "b = torch.tensor(-5.0, requires_grad=True)  # you can set any number here\n",
        "\n",
        "lr = 0.01    # learning rate \n",
        "epochs = 50  # how many times we repeat training\n",
        "\n",
        "w = torch.tensor(3.0, requires_grad=True)    # initialize w\n",
        "b = torch.tensor(-1.0, requires_grad=True)   # initialize b\n",
        "\n",
        "# empty lists for saving loss, w, b\n",
        "loss_list = []\n",
        "w_list = []\n",
        "b_list = []\n",
        "\n",
        "for epoch in range(epochs):\n",
        "\n",
        "    p = model(x)              # prediction\n",
        "    loss = loss_func(p, y)    # measure loss\n",
        "    loss.backward()           # determine gradients\n",
        "\n",
        "    with torch.no_grad():     # disable autograd\n",
        "        w -= w.grad*lr        # update w \n",
        "        b -= b.grad*lr        # update b\n",
        "        \n",
        "        w.grad.zero_() # reset gradient\n",
        "        b.grad.zero_() # reset gradient\n",
        "\n",
        "    # save loss, w, b\n",
        "    loss_list.append(loss.item())\n",
        "    w_list.append(w.item())\n",
        "    b_list.append(b.item())\n",
        "\n",
        "    print(f\"Epoch {epoch+1}, loss={loss.item():.3f}, w={w.item():.3f}, b={b.item():.3f}\")"
      ],
      "execution_count": 15,
      "outputs": [
        {
          "output_type": "stream",
          "name": "stdout",
          "text": [
            "Epoch 1, loss=58.509, w=3.349, b=-0.917\n",
            "Epoch 2, loss=46.698, w=3.637, b=-0.836\n",
            "Epoch 3, loss=38.495, w=3.874, b=-0.757\n",
            "Epoch 4, loss=32.751, w=4.070, b=-0.680\n",
            "Epoch 5, loss=28.685, w=4.231, b=-0.605\n",
            "Epoch 6, loss=25.766, w=4.363, b=-0.532\n",
            "Epoch 7, loss=23.633, w=4.473, b=-0.460\n",
            "Epoch 8, loss=22.040, w=4.562, b=-0.391\n",
            "Epoch 9, loss=20.820, w=4.637, b=-0.322\n",
            "Epoch 10, loss=19.858, w=4.697, b=-0.255\n",
            "Epoch 11, loss=19.078, w=4.748, b=-0.190\n",
            "Epoch 12, loss=18.426, w=4.789, b=-0.126\n",
            "Epoch 13, loss=17.866, w=4.823, b=-0.063\n",
            "Epoch 14, loss=17.373, w=4.850, b=-0.002\n",
            "Epoch 15, loss=16.930, w=4.873, b=0.058\n",
            "Epoch 16, loss=16.525, w=4.892, b=0.117\n",
            "Epoch 17, loss=16.151, w=4.907, b=0.175\n",
            "Epoch 18, loss=15.801, w=4.920, b=0.231\n",
            "Epoch 19, loss=15.471, w=4.930, b=0.286\n",
            "Epoch 20, loss=15.158, w=4.938, b=0.341\n",
            "Epoch 21, loss=14.862, w=4.945, b=0.394\n",
            "Epoch 22, loss=14.579, w=4.951, b=0.446\n",
            "Epoch 23, loss=14.308, w=4.955, b=0.497\n",
            "Epoch 24, loss=14.049, w=4.959, b=0.547\n",
            "Epoch 25, loss=13.801, w=4.962, b=0.595\n",
            "Epoch 26, loss=13.563, w=4.964, b=0.643\n",
            "Epoch 27, loss=13.335, w=4.966, b=0.690\n",
            "Epoch 28, loss=13.117, w=4.967, b=0.736\n",
            "Epoch 29, loss=12.907, w=4.968, b=0.782\n",
            "Epoch 30, loss=12.705, w=4.969, b=0.826\n",
            "Epoch 31, loss=12.511, w=4.970, b=0.869\n",
            "Epoch 32, loss=12.326, w=4.970, b=0.912\n",
            "Epoch 33, loss=12.147, w=4.970, b=0.953\n",
            "Epoch 34, loss=11.976, w=4.970, b=0.994\n",
            "Epoch 35, loss=11.811, w=4.970, b=1.034\n",
            "Epoch 36, loss=11.653, w=4.970, b=1.073\n",
            "Epoch 37, loss=11.501, w=4.970, b=1.111\n",
            "Epoch 38, loss=11.355, w=4.970, b=1.149\n",
            "Epoch 39, loss=11.215, w=4.970, b=1.186\n",
            "Epoch 40, loss=11.081, w=4.970, b=1.222\n",
            "Epoch 41, loss=10.952, w=4.970, b=1.257\n",
            "Epoch 42, loss=10.828, w=4.969, b=1.292\n",
            "Epoch 43, loss=10.708, w=4.969, b=1.326\n",
            "Epoch 44, loss=10.594, w=4.969, b=1.359\n",
            "Epoch 45, loss=10.484, w=4.969, b=1.392\n",
            "Epoch 46, loss=10.379, w=4.968, b=1.424\n",
            "Epoch 47, loss=10.277, w=4.968, b=1.455\n",
            "Epoch 48, loss=10.180, w=4.968, b=1.486\n",
            "Epoch 49, loss=10.086, w=4.967, b=1.516\n",
            "Epoch 50, loss=9.996, w=4.967, b=1.546\n"
          ]
        }
      ]
    },
    {
      "cell_type": "markdown",
      "metadata": {
        "id": "P7wmY5X4VF8I"
      },
      "source": [
        "Now you see $w$ is close to 5.0 and $b$ is close to 3.0."
      ]
    },
    {
      "cell_type": "markdown",
      "metadata": {
        "id": "prLVOe3NUHXZ"
      },
      "source": [
        "Let's visualize how the loss value decreased."
      ]
    },
    {
      "cell_type": "code",
      "metadata": {
        "colab": {
          "base_uri": "https://localhost:8080/",
          "height": 280
        },
        "id": "jKNMYl8W-YPu",
        "outputId": "70b088dd-a44b-4264-f054-478d56167c57"
      },
      "source": [
        "plt.plot(np.arange(epochs)+1, loss_list)\n",
        "plt.xlabel(\"Epochs\")\n",
        "plt.ylabel(\"Loss\")\n",
        "plt.grid()"
      ],
      "execution_count": 16,
      "outputs": [
        {
          "output_type": "display_data",
          "data": {
            "text/plain": [
              "<Figure size 432x288 with 1 Axes>"
            ],
            "image/png": "[encoded data removed]"
          },
          "metadata": {
            "needs_background": "light"
          }
        }
      ]
    },
    {
      "cell_type": "markdown",
      "metadata": {
        "id": "SuWi5tIEUNty"
      },
      "source": [
        "Let's visualize how the `w` value updated with epochs."
      ]
    },
    {
      "cell_type": "code",
      "metadata": {
        "colab": {
          "base_uri": "https://localhost:8080/",
          "height": 279
        },
        "id": "7g9-IoVMT5dB",
        "outputId": "e37676cb-5689-458c-84ce-fb4db01a400c"
      },
      "source": [
        "plt.plot(np.arange(epochs)+1, w_list)\n",
        "plt.xlabel(\"Epochs\")\n",
        "plt.ylabel(\"w\")\n",
        "plt.grid()"
      ],
      "execution_count": 17,
      "outputs": [
        {
          "output_type": "display_data",
          "data": {
            "text/plain": [
              "<Figure size 432x288 with 1 Axes>"
            ],
            "image/png": "[encoded data removed]"
          },
          "metadata": {
            "needs_background": "light"
          }
        }
      ]
    },
    {
      "cell_type": "markdown",
      "metadata": {
        "id": "8NimP-NFUW7p"
      },
      "source": [
        "Let's visualize how the `b` value updated with epochs."
      ]
    },
    {
      "cell_type": "code",
      "metadata": {
        "colab": {
          "base_uri": "https://localhost:8080/",
          "height": 279
        },
        "id": "1hgnOPXWUA_p",
        "outputId": "1958b426-7864-4519-84e4-49d131fb669e"
      },
      "source": [
        "plt.plot(np.arange(epochs)+1, b_list)\n",
        "plt.xlabel(\"Epochs\")\n",
        "plt.ylabel(\"b\")\n",
        "plt.grid()"
      ],
      "execution_count": 18,
      "outputs": [
        {
          "output_type": "display_data",
          "data": {
            "text/plain": [
              "<Figure size 432x288 with 1 Axes>"
            ],
            "image/png": "[encoded data removed]"
          },
          "metadata": {
            "needs_background": "light"
          }
        }
      ]
    },
    {
      "cell_type": "code",
      "metadata": {
        "colab": {
          "base_uri": "https://localhost:8080/",
          "height": 297
        },
        "id": "bYXitcRHQQ9L",
        "outputId": "9129b993-32ef-4e75-daf6-dbbfa47d3520"
      },
      "source": [
        "plt.plot(x, y, marker=\"o\", lw=0, label=\"dataset\")\n",
        "plt.plot(x, p.detach().numpy(), label=\"prediction\")\n",
        "plt.grid()\n",
        "plt.legend()\n",
        "plt.xlabel(\"x\")\n",
        "plt.ylabel(\"y\")"
      ],
      "execution_count": 19,
      "outputs": [
        {
          "output_type": "execute_result",
          "data": {
            "text/plain": [
              "Text(0, 0.5, 'y')"
            ]
          },
          "metadata": {},
          "execution_count": 19
        },
        {
          "output_type": "display_data",
          "data": {
            "text/plain": [
              "<Figure size 432x288 with 1 Axes>"
            ],
            "image/png": "[encoded data removed]"
          },
          "metadata": {
            "needs_background": "light"
          }
        }
      ]
    },
    {
      "cell_type": "markdown",
      "metadata": {
        "id": "iU83IdbgUqfo"
      },
      "source": [
        "Now you can try to change initial values of `epochs`, `lr`, `w`, `b` etc. and see what happens."
      ]
    }
  ]
}