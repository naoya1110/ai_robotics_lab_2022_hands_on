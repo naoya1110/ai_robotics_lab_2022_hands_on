{
  "nbformat": 4,
  "nbformat_minor": 0,
  "metadata": {
    "colab": {
      "name": "Week03_sup_PyTorch_Simple_Linear_Regression_Example.ipynb",
      "provenance": [],
      "collapsed_sections": [],
      "authorship_tag": "ABX9TyNf/YaDxrpizAJ5qVipk9eB",
      "include_colab_link": true
    },
    "kernelspec": {
      "name": "python3",
      "display_name": "Python 3"
    },
    "language_info": {
      "name": "python"
    }
  },
  "cells": [
    {
      "cell_type": "markdown",
      "metadata": {
        "id": "view-in-github",
        "colab_type": "text"
      },
      "source": [
        "<a href=\"https://colab.research.google.com/github/naoya1110/ai_robotics_lab_2022_hands_on/blob/main/Week03_sup_PyTorch_Simple_Linear_Regression_Example.ipynb\" target=\"_parent\"><img src=\"https://colab.research.google.com/assets/colab-badge.svg\" alt=\"Open In Colab\"/></a>"
      ]
    },
    {
      "cell_type": "markdown",
      "metadata": {
        "id": "f3N0fVQqIH-w"
      },
      "source": [
        "This is a supplemental material for Week03,explaining how the model parameters are updated with stochastic gradient decent (SGD).\n",
        "\n",
        "In this example, we are going to implement a simple linear regression model with PyTorch.\n",
        "\n",
        "First of all, let's import packages of PyTorch, Numpy and Matplotlib."
      ]
    },
    {
      "cell_type": "code",
      "metadata": {
        "id": "PVx3kr0D4Ppr"
      },
      "source": [
        "import torch\n",
        "import numpy as np\n",
        "import matplotlib.pyplot as plt"
      ],
      "execution_count": 1,
      "outputs": []
    },
    {
      "cell_type": "markdown",
      "metadata": {
        "id": "iFGAxPumJKhm"
      },
      "source": [
        "Here we create a dataset of $x$ (inputs) and $y$ (outputs) with a simple linear equation below. Note that output data $y$ contains some random noise. \n",
        "\n",
        "$y = 5x + 3 + \\mathrm{noise}$"
      ]
    },
    {
      "cell_type": "code",
      "metadata": {
        "colab": {
          "base_uri": "https://localhost:8080/",
          "height": 279
        },
        "id": "d12jiZah4lAV",
        "outputId": "89430760-2746-4071-dee4-9d5ea2ba189c"
      },
      "source": [
        "x = 10*np.random.rand(100)-5\n",
        "noise = 3*np.random.randn(x.shape[0])\n",
        "y = 5*x + 3 + noise\n",
        "plt.plot(x, y, marker=\"o\", lw= 0, label=\"data\")\n",
        "plt.xlabel(\"x\")\n",
        "plt.ylabel(\"y\")\n",
        "plt.legend()\n",
        "plt.grid()"
      ],
      "execution_count": 2,
      "outputs": [
        {
          "output_type": "display_data",
          "data": {
            "text/plain": [
              "<Figure size 432x288 with 1 Axes>"
            ],
            "image/png": "[encoded data removed]"
          },
          "metadata": {
            "needs_background": "light"
          }
        }
      ]
    },
    {
      "cell_type": "markdown",
      "metadata": {
        "id": "V1d9TcZJKOAH"
      },
      "source": [
        "Our goal is to find a linear function model (equation) that can fit the x-y dataset well.\n",
        "\n",
        "Instead of using PyTorch, we can simply use `np.polyfit()` to fit the dataset. Then we can obtain the fitting parameters of $w$ and $b$ of a linear function of $y = wx + b$, where $w$ and $b$ are called weight and bias, respectively."
      ]
    },
    {
      "cell_type": "code",
      "metadata": {
        "colab": {
          "base_uri": "https://localhost:8080/"
        },
        "id": "REAk1xWzG4cs",
        "outputId": "86d2a103-d7df-43db-c14f-46bbe4be005e"
      },
      "source": [
        "w, b = np.polyfit(x, y, 1)\n",
        "print(f\"w={w:.3f}, b={b:.3f}\")"
      ],
      "execution_count": 3,
      "outputs": [
        {
          "output_type": "stream",
          "name": "stdout",
          "text": [
            "w=5.073, b=3.143\n"
          ]
        }
      ]
    },
    {
      "cell_type": "markdown",
      "metadata": {
        "id": "beBJ2jmvOnsi"
      },
      "source": [
        "Because the x-y dataset contains some noise, obtained $w$ and $b$ are not exactly same as we used for creating the dataset, but they are close enough. Anyway we can make a fitting line with the obtained parameters of $w$ and $b$."
      ]
    },
    {
      "cell_type": "code",
      "metadata": {
        "colab": {
          "base_uri": "https://localhost:8080/",
          "height": 279
        },
        "id": "7KIJCGZ_5KD8",
        "outputId": "6c37d171-6cdc-4e62-b9f3-1f1a1b1e9571"
      },
      "source": [
        "y_fit = w*x + b\n",
        "\n",
        "plt.plot(x, y, marker=\"o\", lw=0, label=\"dataset\")\n",
        "plt.plot(x, y_fit, lw=2, label=\"fit\")\n",
        "plt.xlabel(\"x\")\n",
        "plt.ylabel(\"y\")\n",
        "plt.legend()\n",
        "plt.grid()"
      ],
      "execution_count": 5,
      "outputs": [
        {
          "output_type": "display_data",
          "data": {
            "text/plain": [
              "<Figure size 432x288 with 1 Axes>"
            ],
            "image/png": "[encoded data removed]"
          },
          "metadata": {
            "needs_background": "light"
          }
        }
      ]
    },
    {
      "cell_type": "markdown",
      "metadata": {
        "id": "CAT9dny8FhRW"
      },
      "source": [
        "So `np.polyfit()` works very well. But in this example we will do the same thing with PyTorch.\n",
        "\n",
        "Now we convert the dataset of $x$ and $y$ into PyTorch Tensor."
      ]
    },
    {
      "cell_type": "code",
      "metadata": {
        "id": "3mbf0APf5yYF",
        "colab": {
          "base_uri": "https://localhost:8080/"
        },
        "outputId": "48a0bf2c-6195-47e6-8b42-b09572cc152f"
      },
      "source": [
        "x = torch.tensor(x)\n",
        "y = torch.tensor(y)\n",
        "\n",
        "print(type(x))\n",
        "print(type(y))"
      ],
      "execution_count": 6,
      "outputs": [
        {
          "output_type": "stream",
          "name": "stdout",
          "text": [
            "<class 'torch.Tensor'>\n",
            "<class 'torch.Tensor'>\n"
          ]
        }
      ]
    },
    {
      "cell_type": "markdown",
      "metadata": {
        "id": "GWY-KZbAJopr"
      },
      "source": [
        "Then we define a function named `model()` that predicts an output value of $y$ from an input value of $x$ with the parameters of $w$ and $b$."
      ]
    },
    {
      "cell_type": "code",
      "metadata": {
        "id": "T-FhluBo7Ea1"
      },
      "source": [
        "def model(x):\n",
        "    return w*x + b"
      ],
      "execution_count": 7,
      "outputs": []
    },
    {
      "cell_type": "markdown",
      "metadata": {
        "id": "vemQxk48K_mz"
      },
      "source": [
        "Also we define a function named `loss_func()` to calculate the mean squared error between $p$ and $y$, where $p$ is the output values, i.e. prediction, of the `model()`. This kind of function is called loss function which can be used for measuring how wrong the model prediction was."
      ]
    },
    {
      "cell_type": "markdown",
      "metadata": {
        "id": "do3Ll8sEkMb6"
      },
      "source": [
        "$\\displaystyle \\mathrm{loss} = \\mathrm{mse}(p, y) = \\frac{1}{N}\\sum_{i=0}^{N-1}(p_i-y_i)^2$"
      ]
    },
    {
      "cell_type": "code",
      "metadata": {
        "id": "BJX-xDCl7Le1"
      },
      "source": [
        "def loss_func(p, y):\n",
        "    return ((p-y)**2).mean()"
      ],
      "execution_count": 8,
      "outputs": []
    },
    {
      "cell_type": "markdown",
      "metadata": {
        "id": "MZdLCxF8NkXD"
      },
      "source": [
        "At this point we don't know what $w$ and $b$ are. So we initialize those values with arbitary numbers."
      ]
    },
    {
      "cell_type": "code",
      "metadata": {
        "id": "m_fsb7vWO6Dy"
      },
      "source": [
        "w = torch.tensor(1.0, requires_grad=True)   # you can set any number here\n",
        "b = torch.tensor(-5.0, requires_grad=True)  # you can set any number here"
      ],
      "execution_count": 9,
      "outputs": []
    },
    {
      "cell_type": "markdown",
      "metadata": {
        "id": "s_4S2EQYO8wl"
      },
      "source": [
        "Now we can make a prediction using `model()`"
      ]
    },
    {
      "cell_type": "code",
      "metadata": {
        "id": "WLHoWRI7O8Rz",
        "colab": {
          "base_uri": "https://localhost:8080/"
        },
        "outputId": "4a6beb82-274f-4331-ba25-8b1f6d4c02f4"
      },
      "source": [
        "p = model(x)\n",
        "print(p)"
      ],
      "execution_count": 10,
      "outputs": [
        {
          "output_type": "stream",
          "name": "stdout",
          "text": [
            "tensor([-0.4471, -4.1988, -6.5659, -8.5372, -2.4041, -2.2799, -4.2380, -6.3197,\n",
            "        -4.0032, -8.2665, -5.2995, -1.1188, -7.6434, -8.2637, -4.7207, -5.3545,\n",
            "        -0.2189, -9.6219, -9.8868, -0.9640, -3.9529, -9.6338, -0.0997, -1.8966,\n",
            "        -0.9966, -0.1999, -3.8496, -8.8201, -4.3721, -9.2755, -4.5272, -1.0544,\n",
            "        -0.8854, -6.4982, -6.8626, -2.7122, -2.3097, -7.5199, -9.8451, -1.6644,\n",
            "        -9.8768, -0.6079, -5.9226, -7.3878, -2.8043, -8.7010, -8.4239, -7.3090,\n",
            "        -9.3918, -8.8286, -8.6325, -8.9370, -8.8297, -7.0216, -4.9396, -5.8633,\n",
            "        -5.7338, -4.5638, -8.8596, -5.7176, -8.9954, -2.6116, -3.0568, -1.6571,\n",
            "        -2.7899, -4.3453, -6.3695, -1.8974, -2.3705, -6.2501, -3.1930, -2.6470,\n",
            "        -9.6699, -7.5389, -8.5926, -6.9739, -8.8805, -1.2556, -5.7971, -3.6229,\n",
            "        -8.9311, -8.3437, -4.1651, -4.2784, -0.9908, -5.7850, -9.8270, -9.4896,\n",
            "        -9.7614, -1.0879, -2.4393, -5.6310, -9.7078, -5.0878, -8.4812, -3.8793,\n",
            "        -1.9287, -8.5730, -6.1744, -8.7514], dtype=torch.float64,\n",
            "       grad_fn=<AddBackward0>)\n"
          ]
        }
      ]
    },
    {
      "cell_type": "markdown",
      "metadata": {
        "id": "QtXwQ3nIttbt"
      },
      "source": [
        "Let's visualize current prediction. As we set arbitary number for $w$ and $b$, the model prediction does not fit the data well for sure."
      ]
    },
    {
      "cell_type": "code",
      "metadata": {
        "colab": {
          "base_uri": "https://localhost:8080/",
          "height": 297
        },
        "id": "7Gvw_X_MPKhL",
        "outputId": "18bae621-b230-4db3-9136-4f987a348e34"
      },
      "source": [
        "plt.plot(x, y, marker=\"o\", lw=0, label=\"data\")\n",
        "plt.plot(x, p.detach().numpy(), label=\"prediction\")\n",
        "plt.grid()\n",
        "plt.legend()\n",
        "plt.xlabel(\"x\")\n",
        "plt.ylabel(\"y\")"
      ],
      "execution_count": 11,
      "outputs": [
        {
          "output_type": "execute_result",
          "data": {
            "text/plain": [
              "Text(0, 0.5, 'y')"
            ]
          },
          "metadata": {},
          "execution_count": 11
        },
        {
          "output_type": "display_data",
          "data": {
            "text/plain": [
              "<Figure size 432x288 with 1 Axes>"
            ],
            "image/png": "[encoded data removed]"
          },
          "metadata": {
            "needs_background": "light"
          }
        }
      ]
    },
    {
      "cell_type": "markdown",
      "metadata": {
        "id": "PV7CxsLjPsnR"
      },
      "source": [
        "Then we calculate loss (mean squared error) value by using `loss_func()`. Note that the loss value is very large because $w$ and $b$ are arbitaly values and not optimized yet."
      ]
    },
    {
      "cell_type": "code",
      "metadata": {
        "colab": {
          "base_uri": "https://localhost:8080/"
        },
        "id": "EIXfD63wPzVm",
        "outputId": "a6a7e9bb-d174-4caf-f5fa-781fa78b67b5"
      },
      "source": [
        "loss = loss_func(p, y)\n",
        "print(loss)"
      ],
      "execution_count": 12,
      "outputs": [
        {
          "output_type": "stream",
          "name": "stdout",
          "text": [
            "tensor(199.2098, dtype=torch.float64, grad_fn=<MeanBackward0>)\n"
          ]
        }
      ]
    },
    {
      "cell_type": "markdown",
      "metadata": {
        "id": "roLiOg-dQp_q"
      },
      "source": [
        "In order to optimize $w$ amd $b$, we need to know the gradients of loss respect to current $w$ and $b$ respectively. This can be done with `loss.backward()`. The gradients of $ \\frac{\\partial \\mathrm{loss}}{\\partial w}$ and $\\frac{\\partial \\mathrm{loss}}{\\partial b}$ can be accessed by `w.grad` and `b.grad`, respectively."
      ]
    },
    {
      "cell_type": "code",
      "metadata": {
        "colab": {
          "base_uri": "https://localhost:8080/"
        },
        "id": "kNT7UuCnQh2X",
        "outputId": "a562ca7c-195f-4a31-e164-908f037bb6d8"
      },
      "source": [
        "loss.backward()\n",
        "print(w.grad)\n",
        "print(b.grad)"
      ],
      "execution_count": 13,
      "outputs": [
        {
          "output_type": "stream",
          "name": "stdout",
          "text": [
            "tensor(-68.8796)\n",
            "tensor(-12.4153)\n"
          ]
        }
      ]
    },
    {
      "cell_type": "markdown",
      "metadata": {
        "id": "DWPnNfKsTLW_"
      },
      "source": [
        "Then we can update $w$ and $b$ by using equations below where $\\eta$ is learning rate. This is a method called stochastic gradient descent (SGD).\n",
        "\n",
        "$\\displaystyle w := w - \\eta\\frac{\\partial}{\\partial w}\\mathrm{loss}$\n",
        "\n",
        "$\\displaystyle b := b - \\eta\\frac{\\partial}{\\partial b}\\mathrm{loss}$\n",
        "\n",
        "\n",
        "When we update those values we don't want to calculate the gradients. For this purpose `with torch.no_grad()` is stated at the beginning."
      ]
    },
    {
      "cell_type": "code",
      "metadata": {
        "id": "mpoxdQ0WTK9X"
      },
      "source": [
        "lr = 0.01    # define learning rate\n",
        "\n",
        "with torch.no_grad():    # disable gradients calculations\n",
        "    w -= w.grad*lr       # update w\n",
        "    b -= b.grad*lr       # update b"
      ],
      "execution_count": 14,
      "outputs": []
    },
    {
      "cell_type": "markdown",
      "metadata": {
        "id": "aen0JWycU6BN"
      },
      "source": [
        "At this point you can find the values of $w$ and $b$ are a bit closer to the true values ($w$=5.0, $b$=3.0) than the initial values."
      ]
    },
    {
      "cell_type": "code",
      "metadata": {
        "colab": {
          "base_uri": "https://localhost:8080/"
        },
        "id": "3H6yLMDgU4Yr",
        "outputId": "fdefb363-d9bc-4211-c594-a2eb1a6c9f5d"
      },
      "source": [
        "print(w)\n",
        "print(b)"
      ],
      "execution_count": 15,
      "outputs": [
        {
          "output_type": "stream",
          "name": "stdout",
          "text": [
            "tensor(1.6888, requires_grad=True)\n",
            "tensor(-4.8758, requires_grad=True)\n"
          ]
        }
      ]
    },
    {
      "cell_type": "markdown",
      "metadata": {
        "id": "2G7G6xIpYnlk"
      },
      "source": [
        "In order to optimize $w$ and $b$ further, we repeat above process many times."
      ]
    },
    {
      "cell_type": "code",
      "metadata": {
        "colab": {
          "base_uri": "https://localhost:8080/"
        },
        "id": "oVJCrKHR7UPk",
        "outputId": "09b99ae5-e988-4d71-91e2-4bc6f3c58b1f"
      },
      "source": [
        "w = torch.tensor(1.0, requires_grad=True)   # you can set any number here\n",
        "b = torch.tensor(-5.0, requires_grad=True)  # you can set any number here\n",
        "\n",
        "lr = 0.01    # learning rate \n",
        "epochs = 50  # how many times we repeat training\n",
        "\n",
        "w = torch.tensor(3.0, requires_grad=True)    # initialize w\n",
        "b = torch.tensor(-1.0, requires_grad=True)   # initialize b\n",
        "\n",
        "# empty lists for saving loss, w, b\n",
        "loss_list = []\n",
        "w_list = []\n",
        "b_list = []\n",
        "\n",
        "for epoch in range(epochs):\n",
        "\n",
        "    p = model(x)              # prediction\n",
        "    loss = loss_func(p, y)    # measure loss\n",
        "    loss.backward()           # determine gradients\n",
        "\n",
        "    with torch.no_grad():     # disable autograd\n",
        "        w -= w.grad*lr        # update w \n",
        "        b -= b.grad*lr        # update b\n",
        "        \n",
        "        w.grad.zero_() # reset gradient\n",
        "        b.grad.zero_() # reset gradient\n",
        "\n",
        "    # save loss, w, b\n",
        "    loss_list.append(loss.item())\n",
        "    w_list.append(w.item())\n",
        "    b_list.append(b.item())\n",
        "\n",
        "    print(f\"Epoch {epoch+1}, loss={loss.item():.3f}, w={w.item():.3f}, b={b.item():.3f}\")"
      ],
      "execution_count": 16,
      "outputs": [
        {
          "output_type": "stream",
          "name": "stdout",
          "text": [
            "Epoch 1, loss=57.811, w=3.351, b=-0.937\n",
            "Epoch 2, loss=46.260, w=3.636, b=-0.872\n",
            "Epoch 3, loss=38.451, w=3.868, b=-0.805\n",
            "Epoch 4, loss=33.112, w=4.057, b=-0.737\n",
            "Epoch 5, loss=29.408, w=4.211, b=-0.670\n",
            "Epoch 6, loss=26.786, w=4.337, b=-0.601\n",
            "Epoch 7, loss=24.885, w=4.440, b=-0.534\n",
            "Epoch 8, loss=23.464, w=4.524, b=-0.466\n",
            "Epoch 9, loss=22.367, w=4.593, b=-0.399\n",
            "Epoch 10, loss=21.488, w=4.650, b=-0.333\n",
            "Epoch 11, loss=20.759, w=4.696, b=-0.267\n",
            "Epoch 12, loss=20.135, w=4.735, b=-0.203\n",
            "Epoch 13, loss=19.585, w=4.767, b=-0.139\n",
            "Epoch 14, loss=19.090, w=4.793, b=-0.076\n",
            "Epoch 15, loss=18.636, w=4.815, b=-0.015\n",
            "Epoch 16, loss=18.213, w=4.834, b=0.046\n",
            "Epoch 17, loss=17.816, w=4.849, b=0.106\n",
            "Epoch 18, loss=17.441, w=4.862, b=0.164\n",
            "Epoch 19, loss=17.084, w=4.874, b=0.222\n",
            "Epoch 20, loss=16.744, w=4.883, b=0.278\n",
            "Epoch 21, loss=16.419, w=4.892, b=0.334\n",
            "Epoch 22, loss=16.107, w=4.899, b=0.388\n",
            "Epoch 23, loss=15.808, w=4.906, b=0.442\n",
            "Epoch 24, loss=15.521, w=4.912, b=0.494\n",
            "Epoch 25, loss=15.246, w=4.917, b=0.546\n",
            "Epoch 26, loss=14.981, w=4.921, b=0.596\n",
            "Epoch 27, loss=14.727, w=4.926, b=0.646\n",
            "Epoch 28, loss=14.483, w=4.930, b=0.694\n",
            "Epoch 29, loss=14.248, w=4.933, b=0.742\n",
            "Epoch 30, loss=14.022, w=4.937, b=0.788\n",
            "Epoch 31, loss=13.805, w=4.940, b=0.834\n",
            "Epoch 32, loss=13.596, w=4.943, b=0.879\n",
            "Epoch 33, loss=13.396, w=4.946, b=0.923\n",
            "Epoch 34, loss=13.203, w=4.949, b=0.966\n",
            "Epoch 35, loss=13.017, w=4.951, b=1.009\n",
            "Epoch 36, loss=12.839, w=4.954, b=1.050\n",
            "Epoch 37, loss=12.668, w=4.957, b=1.091\n",
            "Epoch 38, loss=12.503, w=4.959, b=1.131\n",
            "Epoch 39, loss=12.344, w=4.961, b=1.170\n",
            "Epoch 40, loss=12.192, w=4.964, b=1.208\n",
            "Epoch 41, loss=12.046, w=4.966, b=1.246\n",
            "Epoch 42, loss=11.905, w=4.968, b=1.283\n",
            "Epoch 43, loss=11.769, w=4.970, b=1.319\n",
            "Epoch 44, loss=11.639, w=4.972, b=1.355\n",
            "Epoch 45, loss=11.514, w=4.974, b=1.389\n",
            "Epoch 46, loss=11.394, w=4.976, b=1.424\n",
            "Epoch 47, loss=11.278, w=4.978, b=1.457\n",
            "Epoch 48, loss=11.167, w=4.980, b=1.490\n",
            "Epoch 49, loss=11.060, w=4.982, b=1.522\n",
            "Epoch 50, loss=10.957, w=4.983, b=1.554\n"
          ]
        }
      ]
    },
    {
      "cell_type": "markdown",
      "metadata": {
        "id": "P7wmY5X4VF8I"
      },
      "source": [
        "Now you see $w$ is close to 5.0 and $b$ is close to 3.0."
      ]
    },
    {
      "cell_type": "markdown",
      "metadata": {
        "id": "prLVOe3NUHXZ"
      },
      "source": [
        "Let's visualize how the loss value decreased."
      ]
    },
    {
      "cell_type": "code",
      "metadata": {
        "colab": {
          "base_uri": "https://localhost:8080/",
          "height": 283
        },
        "id": "jKNMYl8W-YPu",
        "outputId": "78623f8c-702c-43cd-f285-e557af2d5109"
      },
      "source": [
        "plt.plot(np.arange(epochs)+1, loss_list)\n",
        "plt.xlabel(\"Epochs\")\n",
        "plt.ylabel(\"Loss\")\n",
        "plt.grid()"
      ],
      "execution_count": 17,
      "outputs": [
        {
          "output_type": "display_data",
          "data": {
            "text/plain": [
              "<Figure size 432x288 with 1 Axes>"
            ],
            "image/png": "[encoded data removed]"
          },
          "metadata": {
            "needs_background": "light"
          }
        }
      ]
    },
    {
      "cell_type": "markdown",
      "metadata": {
        "id": "SuWi5tIEUNty"
      },
      "source": [
        "Let's visualize how the `w` value updated with epochs."
      ]
    },
    {
      "cell_type": "code",
      "metadata": {
        "colab": {
          "base_uri": "https://localhost:8080/",
          "height": 279
        },
        "id": "7g9-IoVMT5dB",
        "outputId": "f53658fd-f4d0-4460-ca00-e8a79f8e9aea"
      },
      "source": [
        "plt.plot(np.arange(epochs)+1, w_list)\n",
        "plt.xlabel(\"Epochs\")\n",
        "plt.ylabel(\"w\")\n",
        "plt.grid()"
      ],
      "execution_count": 18,
      "outputs": [
        {
          "output_type": "display_data",
          "data": {
            "text/plain": [
              "<Figure size 432x288 with 1 Axes>"
            ],
            "image/png": "[encoded data removed]"
          },
          "metadata": {
            "needs_background": "light"
          }
        }
      ]
    },
    {
      "cell_type": "markdown",
      "metadata": {
        "id": "8NimP-NFUW7p"
      },
      "source": [
        "Let's visualize how the `b` value updated with epochs."
      ]
    },
    {
      "cell_type": "code",
      "metadata": {
        "colab": {
          "base_uri": "https://localhost:8080/",
          "height": 279
        },
        "id": "1hgnOPXWUA_p",
        "outputId": "d453c1ac-0cd1-4001-dd96-39ffaa12afa8"
      },
      "source": [
        "plt.plot(np.arange(epochs)+1, b_list)\n",
        "plt.xlabel(\"Epochs\")\n",
        "plt.ylabel(\"b\")\n",
        "plt.grid()"
      ],
      "execution_count": 19,
      "outputs": [
        {
          "output_type": "display_data",
          "data": {
            "text/plain": [
              "<Figure size 432x288 with 1 Axes>"
            ],
            "image/png": "[encoded data removed]"
          },
          "metadata": {
            "needs_background": "light"
          }
        }
      ]
    },
    {
      "cell_type": "code",
      "metadata": {
        "colab": {
          "base_uri": "https://localhost:8080/",
          "height": 297
        },
        "id": "bYXitcRHQQ9L",
        "outputId": "5e754cbc-f768-42a2-ccb0-b1dca4e8000d"
      },
      "source": [
        "plt.plot(x, y, marker=\"o\", lw=0, label=\"dataset\")\n",
        "plt.plot(x, p.detach().numpy(), label=\"prediction\")\n",
        "plt.grid()\n",
        "plt.legend()\n",
        "plt.xlabel(\"x\")\n",
        "plt.ylabel(\"y\")"
      ],
      "execution_count": 20,
      "outputs": [
        {
          "output_type": "execute_result",
          "data": {
            "text/plain": [
              "Text(0, 0.5, 'y')"
            ]
          },
          "metadata": {},
          "execution_count": 20
        },
        {
          "output_type": "display_data",
          "data": {
            "text/plain": [
              "<Figure size 432x288 with 1 Axes>"
            ],
            "image/png": "[encoded data removed]"
          },
          "metadata": {
            "needs_background": "light"
          }
        }
      ]
    },
    {
      "cell_type": "markdown",
      "metadata": {
        "id": "iU83IdbgUqfo"
      },
      "source": [
        "Now you can try to change initial values of `epochs`, `lr`, `w`, `b` etc. and see what happens."
      ]
    }
  ]
}